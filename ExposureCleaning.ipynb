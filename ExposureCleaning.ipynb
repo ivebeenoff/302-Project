{
 "cells": [
  {
   "cell_type": "code",
   "execution_count": 4,
   "id": "9aaba42d-a575-4fbd-b9a3-ba5070356676",
   "metadata": {},
   "outputs": [],
   "source": [
    "import matplotlib.pyplot as plt\n",
    "import numpy as np\n",
    "from scipy import stats\n",
    "from scipy.optimize import curve_fit\n",
    "\n",
    "from astropy.io import fits\n",
    "from astropy.wcs import WCS"
   ]
  },
  {
   "cell_type": "markdown",
   "id": "a97e8954-9904-4953-959c-c5e61d9db0ac",
   "metadata": {},
   "source": [
    "## Test"
   ]
  },
  {
   "cell_type": "code",
   "execution_count": 16,
   "id": "bea8a78a-b8be-4bf3-827d-63c541b77377",
   "metadata": {},
   "outputs": [
    {
     "name": "stdout",
     "output_type": "stream",
     "text": [
      "Filename: ../302Project/Files/bias.fits\n",
      "No.    Name      Ver    Type      Cards   Dimensions   Format\n",
      "  0  PRIMARY       1 PrimaryHDU     143   (1365, 1365)   float32   \n"
     ]
    },
    {
     "data": {
      "image/png": "[encoded data removed]",
      "text/plain": [
       "<Figure size 640x480 with 1 Axes>"
      ]
     },
     "metadata": {},
     "output_type": "display_data"
    }
   ],
   "source": [
    "# define the image, open, and read the header information\n",
    "filename = '../302Project/Files/bias.fits'\n",
    "hdu = fits.open(filename)[0]\n",
    "image = hdu.data\n",
    "hdr = hdu.header\n",
    "\n",
    "# plot the image, with minimum and maximum levels set by percentiles\n",
    "ax = plt.subplot()\n",
    "ax.imshow(image,cmap='gray',vmin=150,vmax=500)\n",
    "fits.info(filename)"
   ]
  },
  {
   "cell_type": "markdown",
   "id": "b1e84efe-8781-49ad-8a32-441906519770",
   "metadata": {},
   "source": [
    "## Functions"
   ]
  },
  {
   "cell_type": "code",
   "execution_count": 8,
   "id": "64d3bea3-b053-4b37-a6a6-78ad52c1986b",
   "metadata": {},
   "outputs": [],
   "source": [
    "#defining a function that corrects the bias:\n",
    "def BiasCorrection(filenum):\n",
    "    #Defining bias_image\n",
    "    filename = '../302Project/Files/bias.fits'\n",
    "    hdu = fits.open(filename)[0]\n",
    "    bias_image = hdu.data\n",
    "    hdr = hdu.header\n",
    "\n",
    "    for i in range(filenum):\n",
    "        filename = f'../302Project/Files/23feb.{i:04d}.fits'\n",
    "        hdu = fits.open(filename)[0]\n",
    "        image = hdu.data\n",
    "        hdr = hdu.header\n",
    "\n",
    "        #Code from Lab 4\n",
    "        # get size of image\n",
    "        h, w = image.shape\n",
    "        print(h,w)\n",
    "        #initialize overscan array\n",
    "        overscan = []\n",
    "        \n",
    "        # calculate mean overscan values\n",
    "        for i in range(1,h):\n",
    "            overscan = np.append(overscan,np.mean(image[i,:]))\n",
    "\n",
    "        bias = \n",
    "        "
   ]
  },
  {
   "cell_type": "code",
   "execution_count": null,
   "id": "c12bd29c-a855-4ea3-b0f7-8b3ab4ac4ddf",
   "metadata": {},
   "outputs": [],
   "source": [
    "#Defining function that flatfields:\n",
    "def Flatfielding(filenum):\n",
    "    for i in range(filenum):\n",
    "        if i < : #r filter files\n",
    "            filename = '../302Project/Files/'''\n",
    "            hdu = fits.open(filename)[0]\n",
    "            bias_image = hdu.data\n",
    "            hdr = hdu.header\n",
    "\n",
    "        if i < : #u filter files\n",
    "            filename = '23feb.0001.fits'\n",
    "            hdu = fits.open(filename)[0]\n",
    "            bias_image = hdu.data\n",
    "            hdr = hdu.header\n",
    "\n",
    "        if i <: #b filter files\n",
    "            filename = '23feb.0001.fits'\n",
    "            hdu = fits.open(filename)[0]\n",
    "            bias_image = hdu.data\n",
    "            hdr = hdu.header\n",
    "\n",
    "        if i <: #v filter files\n",
    "            filename = '23feb.0001.fits'\n",
    "            hdu = fits.open(filename)[0]\n",
    "            bias_image = hdu.data\n",
    "            hdr = hdu.header\n",
    "            "
   ]
  },
  {
   "cell_type": "code",
   "execution_count": null,
   "id": "063f9e74-0700-4a77-9441-d99f62d7f7ce",
   "metadata": {},
   "outputs": [],
   "source": []
  }
 ],
 "metadata": {
  "kernelspec": {
   "display_name": "Python [conda env:base] *",
   "language": "python",
   "name": "conda-base-py"
  },
  "language_info": {
   "codemirror_mode": {
    "name": "ipython",
    "version": 3
   },
   "file_extension": ".py",
   "mimetype": "text/x-python",
   "name": "python",
   "nbconvert_exporter": "python",
   "pygments_lexer": "ipython3",
   "version": "3.12.7"
  }
 },
 "nbformat": 4,
 "nbformat_minor": 5
}
